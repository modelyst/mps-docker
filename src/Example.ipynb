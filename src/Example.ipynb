{
 "cells": [
  {
   "cell_type": "code",
   "execution_count": 1,
   "id": "37068d88-dda2-4872-ab24-416f919a583a",
   "metadata": {},
   "outputs": [],
   "source": [
    "from mps_client import run_raw_query,get_process_history\n",
    "from mps_client.core.graph_queries import run_raw_graph_query\n"
   ]
  },
  {
   "cell_type": "code",
   "execution_count": 2,
   "id": "91ac58cc-194a-4735-85a9-76ff4f444c42",
   "metadata": {},
   "outputs": [
    {
     "name": "stdout",
     "output_type": "stream",
     "text": [
      "['print-INKJET', 'anneal-unknown']\n"
     ]
    }
   ],
   "source": [
    "ids, types, techs = get_process_history(sample_label='2222-424')\n",
    "print([f'{x}-{y}' for x,y in zip(types,techs)])"
   ]
  },
  {
   "cell_type": "code",
   "execution_count": 3,
   "id": "0a27992b-fcc0-46d9-9f64-1133b947e79c",
   "metadata": {},
   "outputs": [
    {
     "name": "stdout",
     "output_type": "stream",
     "text": [
      "3071-13995 f9e7b4e4-570d-01f6-1a1e-b37a458fc523\n",
      "3071-14107 f9e7b4e4-570d-01f6-1a1e-b37a458fc523\n",
      "3071-14013 f9e7b4e4-570d-01f6-1a1e-b37a458fc523\n",
      "3071-14060 f9e7b4e4-570d-01f6-1a1e-b37a458fc523\n",
      "3071-14048 f9e7b4e4-570d-01f6-1a1e-b37a458fc523\n",
      "3071-14072 f9e7b4e4-570d-01f6-1a1e-b37a458fc523\n",
      "3071-14066 f9e7b4e4-570d-01f6-1a1e-b37a458fc523\n",
      "3071-14137 f9e7b4e4-570d-01f6-1a1e-b37a458fc523\n",
      "3071-14001 f9e7b4e4-570d-01f6-1a1e-b37a458fc523\n",
      "3071-14025 f9e7b4e4-570d-01f6-1a1e-b37a458fc523\n"
     ]
    }
   ],
   "source": [
    "query = \"match (s:Sample)<--(n:SampleProcess)-->(p:Process)-->(pp:ProcessDetail) where pp.type = 'eche' return s.label,p.process limit 10\"\n",
    "processor = lambda x,y: print(x,y)\n",
    "for row in run_raw_graph_query(query):\n",
    "        processor(*row)"
   ]
  },
  {
   "cell_type": "code",
   "execution_count": null,
   "id": "411d29d6-e1ea-42df-9737-8e3768eebd16",
   "metadata": {},
   "outputs": [],
   "source": []
  }
 ],
 "metadata": {
  "kernelspec": {
   "display_name": "Python 3 (ipykernel)",
   "language": "python",
   "name": "python3"
  },
  "language_info": {
   "codemirror_mode": {
    "name": "ipython",
    "version": 3
   },
   "file_extension": ".py",
   "mimetype": "text/x-python",
   "name": "python",
   "nbconvert_exporter": "python",
   "pygments_lexer": "ipython3",
   "version": "3.10.8"
  },
  "toc-showmarkdowntxt": true,
  "vscode": {
   "interpreter": {
    "hash": "31f2aee4e71d21fbe5cf8b01ff0e069b9275f58929596ceb00d14d90e3e16cd6"
   }
  }
 },
 "nbformat": 4,
 "nbformat_minor": 5
}
