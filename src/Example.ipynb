{
 "cells": [
  {
   "cell_type": "code",
   "execution_count": null,
   "id": "37068d88-dda2-4872-ab24-416f919a583a",
   "metadata": {},
   "outputs": [],
   "source": [
    "from mps_client import run_raw_query,get_process_history\n",
    "from mps_client.core.graph_queries import run_raw_graph_query\n"
   ]
  },
  {
   "cell_type": "code",
   "execution_count": null,
   "id": "91ac58cc-194a-4735-85a9-76ff4f444c42",
   "metadata": {},
   "outputs": [
    {
     "name": "stdout",
     "output_type": "stream",
     "text": [
      "['print-INKJET', 'anneal-unknown']\n"
     ]
    }
   ],
   "source": [
    "ids, types, techs = get_process_history(sample_label='2222-424')\n",
    "print([f'{x}-{y}' for x,y in zip(types,techs)])"
   ]
  },
  {
   "cell_type": "code",
   "execution_count": 11,
   "id": "0a27992b-fcc0-46d9-9f64-1133b947e79c",
   "metadata": {
    "tags": []
   },
   "outputs": [
    {
     "name": "stdout",
     "output_type": "stream",
     "text": [
      "<Record s=<Node element_id='51396817' labels=frozenset({'Collection'}) properties={'updated_on': '2020-12-10 00:00:00', 'release_name': 'hte_jcap_app_proto', 'created_at': '2022-11-10 09:02:22.082175-05', 'details': '{\"runs\": {\"runs__1\": {\"id\": 23388, \"path\": \"/inkj/hte-inkj-03/20130628_NiFeCoCeCo_6297/20130628.123100.copied-20180926164639563PDT.zip\", \"type\": \"inkj\", \"folder\": \"files/run\", \"machine\": \"hte-inkj-03\", \"created_at\": \"2013-06-28 12:31:00 PDT\", \"description\": \"Inkjet chemical deposition measurements containing 0 files performed on plate containing Ni,Fe,Co,Ce,Co annealed at 350.0C to add O on 2013-06-28 from Run 20130628.123100\"}}, \"access\": \"public\", \"design\": \"Code 128 v2 Narrow\", \"prints\": {\"prints__1\": {\"id\": 414, \"name\": \"plate500_2\", \"map_id\": 29, \"method\": \"INKJET\", \"elements\": \"Ni,Fe,Co,Ce,Co\", \"revision\": 7.2, \"step_size\": 0.05, \"created_at\": \"2013-06-28 12:31:00 PDT\", \"created_by\": \"paulfnew\", \"fiducial_x\": \"9.14,76.20,143.26,9.14,143.26,9.14,76.20,143.26\", \"fiducial_y\": \"15.24,15.24,15.24,50.80,50.80,86.36,86.36,86.36\", \"resolution\": \"2880x1440\", \"description\": \"Cross section of a quaternary map\", \"design_name\": \"Barcode Number Only\", \"left_margin\": 0.0, \"orientation\": \"V\", \"overprinting\": 2, \"printer_name\": \"HTE-INKJ-03\", \"is_screening_print\": \"Y\"}}, \"anneals\": {\"anneals__1\": {\"id\": 14, \"elements\": \"Air\", \"plate_id\": 629, \"pressure\": 1.0, \"serial_no\": 6297, \"soak_time\": 600.0, \"created_at\": \"2013-07-30 10:54:03 PDT\", \"created_by\": \"edwin\", \"gas_string\": \"air_1.0\", \"recipe_name\": \"Flowing-air-350-300-600-240\", \"recipe_text\": {\"name\": \"Flowing-air-350-300-600-240\", \"gases\": {\"air\": 1.0}, \"steps\": {\"350\": \"300 600 240 m\"}, \"gas_flow\": \"Flowing\", \"pressure\": \"760 torr\", \"flow_rate\": \"0 lpm\"}, \"recipe_type\": \"annealing_recipe\", \"furnace_name\": \"HTE-BOXL-01\", \"created_by_id\": 2, \"recipe_content\": \"653-20150819171606888PDT.txt\", \"max_temperature\": 350.0, \"intended_element\": \"O\", \"recipe_description\": \"Description for Flowing-air-350-300-600-240\"}}, \"lineage\": 629, \"analyses\": {\"analyses__1\": {\"id\": 23390, \"path\": \"/inkj/20130628.123100.copied-20180926164644528PDT.zip\", \"type\": \"inkj\", \"folder\": \"files/analysis\", \"created_at\": \"2013-06-28 12:31:00 PDT\", \"description\": \"Inkjet chemical deposition analysis in which 0 sub-analyses are performed on plate(s) containing Ni,Fe,Co,Ce,Co annealed at 350.0C to add O on 2013-06-28 from Analysis 20130628.123100\"}}, \"plate_id\": 629, \"serial_no\": 6297, \"substrate\": \"Glass FTO Tec 15\", \"created_at\": \"2013-04-01 09:51:24 PDT\", \"created_by\": \"administrator\", \"updated_at\": \"2021-01-08 08:38:24 PST\", \"description\": \"Material library with Ni,Fe,Co,Ce,Co deposited by INKJET on 2013-06-28 from Plate 00006297 annealed at 350.0C to add O on 2013-07-30\", \"experiments\": {\"experiments__1\": {\"id\": 23389, \"path\": \"/inkj/20130628.123100.copied-20180926164641897PDT.zip\", \"type\": \"inkj\", \"folder\": \"files/experiment\", \"created_at\": \"2013-06-28 12:31:00 PDT\", \"description\": \"Inkjet chemical deposition measurements collected from 1 run(s) performed on plate(s) containing Ni,Fe,Co,Ce,Co annealed at 350.0C to add O on 2013-06-28 from Experiment 20130628.123100\"}}, \"info_version\": 1, \"screening_map_id\": 29, \"screening_print_id\": 414, \"substrate_thickness\": 2.25}', 'collection': '7a7d0eb1-4afb-17ed-3e41-fa300af6f955', 'label': '629', 'screening_map_id': 29, 'type': 'JCAP_plate', 'etl_step_id': 'f3fa2ab5-af7f-f289-9719-db09f1227750', 'doi': '10.25989/qfkc-ew45'}>>\n"
     ]
    }
   ],
   "source": [
    "query = \"match (s:Collection) return s limit 1\" \n",
    "for row in run_raw_graph_query(query):\n",
    "        print(row)"
   ]
  },
  {
   "cell_type": "code",
   "execution_count": null,
   "id": "411d29d6-e1ea-42df-9737-8e3768eebd16",
   "metadata": {},
   "outputs": [],
   "source": []
  }
 ],
 "metadata": {
  "kernelspec": {
   "display_name": "Python 3 (ipykernel)",
   "language": "python",
   "name": "python3"
  },
  "language_info": {
   "codemirror_mode": {
    "name": "ipython",
    "version": 3
   },
   "file_extension": ".py",
   "mimetype": "text/x-python",
   "name": "python",
   "nbconvert_exporter": "python",
   "pygments_lexer": "ipython3",
   "version": "3.10.8"
  },
  "toc-showmarkdowntxt": true,
  "vscode": {
   "interpreter": {
    "hash": "31f2aee4e71d21fbe5cf8b01ff0e069b9275f58929596ceb00d14d90e3e16cd6"
   }
  }
 },
 "nbformat": 4,
 "nbformat_minor": 5
}
