{
 "cells": [
  {
   "cell_type": "code",
   "execution_count": 1,
   "id": "37068d88-dda2-4872-ab24-416f919a583a",
   "metadata": {},
   "outputs": [],
   "source": [
    "from test import GraphDriver, Neo4jDsn\n",
    "from pydantic import parse_obj_as\n",
    "import os"
   ]
  },
  {
   "cell_type": "code",
   "execution_count": 2,
   "id": "2b2b06bd-6298-40da-a0c0-914851c5f677",
   "metadata": {},
   "outputs": [
    {
     "name": "stdout",
     "output_type": "stream",
     "text": [
      "None\n"
     ]
    }
   ],
   "source": [
    "GRAPH_DSN = parse_obj_as(Neo4jDsn,os.environ.get('GRAPH_DSN'))\n",
    "driver = GraphDriver(GRAPH_DSN)\n",
    "print(driver.verify_connectivity())"
   ]
  },
  {
   "cell_type": "code",
   "execution_count": 1,
   "id": "dbe2a15e-cd5a-470c-aa65-b44cc8831dec",
   "metadata": {},
   "outputs": [],
   "source": [
    "import numpy"
   ]
  },
  {
   "cell_type": "code",
   "execution_count": null,
   "id": "7f195225-8144-4bf9-9d9d-8570feb19bd0",
   "metadata": {},
   "outputs": [],
   "source": []
  }
 ],
 "metadata": {
  "kernelspec": {
   "display_name": "Python 3 (ipykernel)",
   "language": "python",
   "name": "python3"
  },
  "language_info": {
   "codemirror_mode": {
    "name": "ipython",
    "version": 3
   },
   "file_extension": ".py",
   "mimetype": "text/x-python",
   "name": "python",
   "nbconvert_exporter": "python",
   "pygments_lexer": "ipython3",
   "version": "3.10.8"
  },
  "toc-showmarkdowntxt": true
 },
 "nbformat": 4,
 "nbformat_minor": 5
}
